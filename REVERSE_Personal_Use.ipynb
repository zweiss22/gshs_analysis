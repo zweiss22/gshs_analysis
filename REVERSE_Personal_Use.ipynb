{
  "nbformat": 4,
  "nbformat_minor": 0,
  "metadata": {
    "colab": {
      "provenance": [],
      "collapsed_sections": [],
      "authorship_tag": "ABX9TyOFZsipIHmK5WtuvwYLJYUm",
      "include_colab_link": true
    },
    "kernelspec": {
      "name": "python3",
      "display_name": "Python 3"
    },
    "language_info": {
      "name": "python"
    }
  },
  "cells": [
    {
      "cell_type": "markdown",
      "metadata": {
        "id": "view-in-github",
        "colab_type": "text"
      },
      "source": [
        "<a href=\"https://colab.research.google.com/github/zweiss22/gshs_analysis/blob/main/REVERSE_Personal_Use.ipynb\" target=\"_parent\"><img src=\"https://colab.research.google.com/assets/colab-badge.svg\" alt=\"Open In Colab\"/></a>"
      ]
    },
    {
      "cell_type": "markdown",
      "source": [
        "STEP 1: Enter Number of Rounds"
      ],
      "metadata": {
        "id": "cnXTek1kGJ4P"
      }
    },
    {
      "cell_type": "code",
      "source": [
        "##USER EDIT\n",
        "rounds = 4\n",
        "##USER EDIT"
      ],
      "metadata": {
        "id": "ElxxPy4uGLnd"
      },
      "execution_count": 1,
      "outputs": []
    },
    {
      "cell_type": "markdown",
      "source": [
        "STEP 2: Enter Quality Cutoff\n",
        "\n",
        "Should we remove low quality reads?"
      ],
      "metadata": {
        "id": "8ETn24cXGQN5"
      }
    },
    {
      "cell_type": "code",
      "source": [
        "##USER EDIT\n",
        "remove_low_quality_reads = 'yes'\n",
        "quality_cutoff = 90\n",
        "##USER EDIT"
      ],
      "metadata": {
        "id": "8FZdSyvcGPPr"
      },
      "execution_count": 2,
      "outputs": []
    },
    {
      "cell_type": "markdown",
      "source": [
        "STEP 3: Upload Selection Round FASTQ Files (enter all filenames in quotes seperated by commas and drag all files into upload panel)"
      ],
      "metadata": {
        "id": "cOoYipp2IptB"
      }
    },
    {
      "cell_type": "code",
      "source": [
        "##USER EDIT\n",
        "filenames = ['round1.fastq', 'round2.fastq', 'round3.fastq', 'round4.fastq']\n",
        "##USER EDIT"
      ],
      "metadata": {
        "id": "B2OK2I2iGe6k"
      },
      "execution_count": 3,
      "outputs": []
    },
    {
      "cell_type": "markdown",
      "source": [
        "FILTER BY QUALITY"
      ],
      "metadata": {
        "id": "qWw8JEuQLH3m"
      }
    },
    {
      "cell_type": "code",
      "source": [
        "#Open data\n",
        "uploaded_files = []\n",
        "for file in filenames:\n",
        "  uploaded_files.append(open(file).readlines())\n",
        "\n",
        "all_seqs = []\n",
        "all_high_qual_seqs_noprocess=[]\n",
        "\n",
        "for file in range(rounds):\n",
        "\n",
        "  quality = uploaded_files[file][3::4]\n",
        "  seqs = uploaded_files[file][1::4]\n",
        "\n",
        "  all_seqs.append(seqs)\n",
        "\n",
        "  origonal_seqs = all_seqs\n",
        "\n",
        "  #NO FILTER BY QUALITY\n",
        "  if filter == 'unfiltered':\n",
        "      all_high_qual_seqs_noprocess = all_seqs\n",
        "\n",
        "  #FILTER BY QUALITY\n",
        "  else:\n",
        "      high_quality = []\n",
        "      acceptable_quals_1_percent_error = [5,6,7,8,9,':',';', '<', '=', '>', '?', '@', 'A', 'B', 'C', 'D', 'E', 'F', 'G', 'H', 'I', 'J', 'K']\n",
        "      for seq in range(len(quality)):\n",
        "        overlap=0\n",
        "        for char in list(set(quality[seq]).intersection(acceptable_quals_1_percent_error)):\n",
        "              overlap+=quality[seq].count(char)\n",
        "\n",
        "        if overlap/len(quality[1]) > quality_cutoff/100:\n",
        "              high_quality.append(seqs[seq].strip(\"\\n\"))\n",
        "      all_high_qual_seqs_noprocess.append(high_quality)"
      ],
      "metadata": {
        "id": "4GJl2xrsKTay"
      },
      "execution_count": 4,
      "outputs": []
    },
    {
      "cell_type": "markdown",
      "source": [
        "SEE TOP HIGH QUALITY SEQS FROM LAST ROUND"
      ],
      "metadata": {
        "id": "rZOKosLGR1N2"
      }
    },
    {
      "cell_type": "code",
      "source": [
        "from collections import Counter\n",
        "number_to_see = 10\n",
        "seqs = list({k: v for k, v in sorted(dict(Counter(all_high_qual_seqs_noprocess[-1])).items(), key=lambda item: item[1], reverse=True)}.keys())\n",
        "reads = list({k: v for k, v in sorted(dict(Counter(all_high_qual_seqs_noprocess[-1])).items(), key=lambda item: item[1], reverse=True)}.values())\n",
        "for element in range(number_to_see):\n",
        "  print(seqs[element], reads[element])"
      ],
      "metadata": {
        "colab": {
          "base_uri": "https://localhost:8080/"
        },
        "id": "mUyoNLuxR3WT",
        "outputId": "488031e8-471b-4b3e-ed89-c48713fb8bb7"
      },
      "execution_count": 5,
      "outputs": [
        {
          "output_type": "stream",
          "name": "stdout",
          "text": [
            "CGGTAGGTCCCTTAGCCAAAAAAGGACAGCGAGCTCAGTCTGCCAATTAGCCCGCACGGTTGGCAGCATTCCGCTGTCCGT 1306\n",
            "CGGTAGGTCCCTTAGCCAAAAAAGGACAGCGTGGTTCCGCCGCTCATCTGTCCTAGTCAGCGCTAGCTAGGCGCTGTCCGT 404\n",
            "CGGTAGGTCCCTTAGCCAAAAAAGGACAGCGGATTTATCCCAATTCTCTGCTTGGGCACCAATTTCACTAACGCTGTCCGT 210\n",
            "CGGTAGGTCCCTTAGCCAAAAAAGGACAGCGCGCTTAGGCTTACAAATCCGCACGACTGTGATAAGGGTTCCGCTGTCCGT 192\n",
            "CGGTAGGTCCCTTAGCCAAAAAAGGACAGCGTTATCCGCACTTTAAAATTAGAGGAAATCGGCACCCAATACGCTCCGTGA 137\n",
            "CGGTAGGTCCCTTAGCCAAAAAAGGACAGCGGGGTGAGCAATTACACCTCTTAAGGTCTTCCGCAGTGGCTCGCTGTCCGT 109\n",
            "CGGTAGGTCCCTTAGCCAAAAAAGGACAGCGCAGTTCTGTTCTGCTAACATTCCGCAAGCTCACGGTCTCTCGCTGTCCGT 108\n",
            "CGGTAGGTCCCTTAGCCAAAAAAGGGCAGCGAGCTCAGTCTGCCAATTAGCCCGCACGGTTGGCAGCATTCCGCTGTCCGT 102\n",
            "CGGTAGGTCCCTTAGCCAAAAAAGGACAGCGCCACTTCACGCGGTGGTCTGTCCAATTCAGCGAAACTTTTCGCTGTCCGT 89\n",
            "CGGTAGGTCCCTTAGCCAAAAAAGGACAGCGAGCTCAGTCTGCCAATTAGCCCGCACGGTTGGTAGCATTCCGCTGTCCGT 71\n"
          ]
        }
      ]
    },
    {
      "cell_type": "markdown",
      "source": [
        "MAKE CSV FILES WITH ALL HIGH QUALITY SEQUENCES FROM EACH ROUND"
      ],
      "metadata": {
        "id": "gDmLkX4tULqb"
      }
    },
    {
      "cell_type": "code",
      "source": [
        "#Make sequence read CSV\n",
        "for round in range(len(all_high_qual_seqs_noprocess)):\n",
        "  seqs = list({k: v for k, v in sorted(dict(Counter(all_high_qual_seqs_noprocess[round])).items(), key=lambda item: item[1], reverse=True)}.keys())\n",
        "  reads = list({k: v for k, v in sorted(dict(Counter(all_high_qual_seqs_noprocess[round])).items(), key=lambda item: item[1], reverse=True)}.values())\n",
        "  with open('high_quality_sequences_round'+str(round+1)+'.csv', 'w') as f:\n",
        "      f.write('Sequence'+','+'Reads'+'\\n')\n",
        "      for element in range(len(seqs)):\n",
        "        f.write(str(seqs[element] )+','+str(reads[element])+'\\n')"
      ],
      "metadata": {
        "id": "NiODbF12Tmp8"
      },
      "execution_count": 6,
      "outputs": []
    },
    {
      "cell_type": "markdown",
      "source": [
        "TRIMMER"
      ],
      "metadata": {
        "id": "KAvlhg10NGR4"
      }
    },
    {
      "cell_type": "code",
      "source": [
        "##USER EDIT\n",
        "trim_type = 'position'\n",
        "start, end = [36, 71]\n",
        "#start, end = ['CC', 'AA']\n",
        "##USER EDIT"
      ],
      "metadata": {
        "id": "h1_x4upwSsAm"
      },
      "execution_count": 7,
      "outputs": []
    },
    {
      "cell_type": "code",
      "source": [
        "#TRIM\n",
        "import statistics\n",
        "\n",
        "if trim_type == 'position':\n",
        "    \n",
        "    all_trimmed_seqs = []\n",
        "    for round in range(len(all_high_qual_seqs_noprocess)):  \n",
        "      round_trim = [w[start:end] for w in all_high_qual_seqs_noprocess[round]]\n",
        "      all_lens = [len(i) for i in round_trim]\n",
        "      trimmed = []\n",
        "      if len(list(set(all_lens)))>2:\n",
        "        for seq in round_trim:\n",
        "          if len(seq) == statistics.mode(all_lens):\n",
        "                trimmed.append(seq)\n",
        "        all_trimmed_seqs.append(trimmed)\n",
        "      else:\n",
        "        all_trimmed_seqs.append(round_trim)\n",
        "\n",
        "    orig_trimmed_seqs = []\n",
        "    for round in range(len(all_seqs)):  \n",
        "      round_trim = [w[start:end] for w in all_seqs[round]]\n",
        "      all_lens = [len(i) for i in round_trim]\n",
        "      trimmed = []\n",
        "      if len(list(set(all_lens)))>2:\n",
        "        for seq in round_trim:\n",
        "          if len(seq) == statistics.mode(all_lens):\n",
        "                trimmed.append(seq)\n",
        "        orig_trimmed_seqs.append(trimmed)\n",
        "      else:\n",
        "        orig_trimmed_seqs.append(round_trim)\n",
        "  \n",
        "\n",
        "if trim_type == 'sequence':\n",
        "\n",
        "    all_trimmed_seqs = []\n",
        "    for round in range(len(all_high_qual_seqs_noprocess)):  \n",
        "      round_trim = []\n",
        "      for seq in all_high_qual_seqs_noprocess[round]:\n",
        "        if start in seq and end in seq:\n",
        "          if seq.index(start) < seq.index(end):\n",
        "            round_trim.append(seq[seq.index(start)+len(start):seq.index(end)])\n",
        "      all_lens = [len(i) for i in round_trim]\n",
        "      trimmed = []\n",
        "      if len(list(set(all_lens)))>2:\n",
        "        for seq in round_trim:\n",
        "          if len(seq) == statistics.mode(all_lens):\n",
        "                trimmed.append(seq)\n",
        "        all_trimmed_seqs.append(trimmed)\n",
        "      else:\n",
        "        all_trimmed_seqs.append(round_trim)\n",
        "\n",
        "    orig_trimmed_seqs = []\n",
        "    for round in range(len(all_seqs)):  \n",
        "      round_trim = []\n",
        "      for seq in all_seqs[round]:\n",
        "        if start in seq and end in seq:\n",
        "          if seq.index(start) < seq.index(end):\n",
        "            round_trim.append(seq[seq.index(start)+len(start):seq.index(end)])\n",
        "      all_lens = [len(i) for i in round_trim]\n",
        "      trimmed = []\n",
        "      if len(list(set(all_lens)))>2:\n",
        "        for seq in round_trim:\n",
        "          if len(seq) == statistics.mode(all_lens):\n",
        "                trimmed.append(seq)\n",
        "        orig_trimmed_seqs.append(trimmed)\n",
        "      else:\n",
        "        orig_trimmed_seqs.append(round_trim)\n",
        "\n",
        "all_high_qual_seqs = all_trimmed_seqs"
      ],
      "metadata": {
        "id": "IdCCL7nOLFG3"
      },
      "execution_count": 204,
      "outputs": []
    },
    {
      "cell_type": "markdown",
      "source": [
        "REVERSE COMPLEMENT"
      ],
      "metadata": {
        "id": "B9DTwr7xRToq"
      }
    },
    {
      "cell_type": "code",
      "source": [
        "##USER EDIT\n",
        "rc = 'yes'\n",
        "##USER EDIT"
      ],
      "metadata": {
        "id": "aNoSa9PHSwZ1"
      },
      "execution_count": 9,
      "outputs": []
    },
    {
      "cell_type": "code",
      "source": [
        "#RC\n",
        "!pip install Bio\n",
        "from Bio.Seq import Seq\n",
        "\n",
        "if rc == 'yes':\n",
        "    all_rc_seqs = []\n",
        "    for round in range(len(all_high_qual_seqs)):\n",
        "        all_rc_seqs.append([str(Seq(w).reverse_complement()) for w in all_high_qual_seqs[round]])\n",
        "    all_high_qual_seqs = all_rc_seqs\n",
        "\n",
        "    orig_rc_seqs = []\n",
        "    for round in range(len(orig_trimmed_seqs)):\n",
        "        orig_rc_seqs.append([str(Seq(w).reverse_complement()) for w in orig_trimmed_seqs[round]])\n",
        "    orig_trimmed_seqs = orig_rc_seqs"
      ],
      "metadata": {
        "colab": {
          "base_uri": "https://localhost:8080/"
        },
        "id": "LXLpHmxTNNT4",
        "outputId": "82babcc8-41ed-4315-c950-5e0b8f7c1561"
      },
      "execution_count": 10,
      "outputs": [
        {
          "output_type": "stream",
          "name": "stdout",
          "text": [
            "Looking in indexes: https://pypi.org/simple, https://us-python.pkg.dev/colab-wheels/public/simple/\n",
            "Requirement already satisfied: Bio in /usr/local/lib/python3.7/dist-packages (1.4.0)\n",
            "Requirement already satisfied: tqdm in /usr/local/lib/python3.7/dist-packages (from Bio) (4.64.0)\n",
            "Requirement already satisfied: mygene in /usr/local/lib/python3.7/dist-packages (from Bio) (3.2.2)\n",
            "Requirement already satisfied: biopython>=1.79 in /usr/local/lib/python3.7/dist-packages (from Bio) (1.79)\n",
            "Requirement already satisfied: requests in /usr/local/lib/python3.7/dist-packages (from Bio) (2.23.0)\n",
            "Requirement already satisfied: numpy in /usr/local/lib/python3.7/dist-packages (from biopython>=1.79->Bio) (1.21.6)\n",
            "Requirement already satisfied: biothings-client>=0.2.6 in /usr/local/lib/python3.7/dist-packages (from mygene->Bio) (0.2.6)\n",
            "Requirement already satisfied: certifi>=2017.4.17 in /usr/local/lib/python3.7/dist-packages (from requests->Bio) (2022.6.15)\n",
            "Requirement already satisfied: chardet<4,>=3.0.2 in /usr/local/lib/python3.7/dist-packages (from requests->Bio) (3.0.4)\n",
            "Requirement already satisfied: idna<3,>=2.5 in /usr/local/lib/python3.7/dist-packages (from requests->Bio) (2.10)\n",
            "Requirement already satisfied: urllib3!=1.25.0,!=1.25.1,<1.26,>=1.21.1 in /usr/local/lib/python3.7/dist-packages (from requests->Bio) (1.24.3)\n"
          ]
        }
      ]
    },
    {
      "cell_type": "markdown",
      "source": [
        "TOP SEQUENCE FINDER"
      ],
      "metadata": {
        "id": "TDHeZhOvWyCO"
      }
    },
    {
      "cell_type": "code",
      "source": [
        "##USER EDIT\n",
        "sequences_to_find = 5\n",
        "##USER EDIT"
      ],
      "metadata": {
        "id": "yW1UeEnDy3Ns"
      },
      "execution_count": 57,
      "outputs": []
    },
    {
      "cell_type": "code",
      "source": [
        "from collections import Counter\n",
        "seqs = list({k: v for k, v in sorted(dict(Counter(all_high_qual_seqs[-1])).items(), key=lambda item: item[1], reverse=True)}.keys())\n",
        "reads = list({k: v for k, v in sorted(dict(Counter(all_high_qual_seqs[-1])).items(), key=lambda item: item[1], reverse=True)}.values())\n",
        "for element in range(sequences_to_find):\n",
        "  print(seqs[element], reads[element])"
      ],
      "metadata": {
        "colab": {
          "base_uri": "https://localhost:8080/"
        },
        "id": "AY5R37ioWwia",
        "outputId": "86e40d1f-d08b-4896-9df3-7ef12e5d7968"
      },
      "execution_count": 58,
      "outputs": [
        {
          "output_type": "stream",
          "name": "stdout",
          "text": [
            "GAATGCTGCCAACCGTGCGGGCTAATTGGCAGACT 1639\n",
            "CCTAGCTAGCGCTGACTAGGACAGATGAGCGGCGG 435\n",
            "TTAGTGAAATTGGTGCCCAAGCAGAGAATTGGGAT 304\n",
            "GAACCCTTATCACAGTCGTGCGGATTTGTAAGCCT 201\n",
            "TATTGGGTGCCGATTTCCTCTAATTTTAAAGTGCG 149\n"
          ]
        }
      ]
    },
    {
      "cell_type": "markdown",
      "source": [
        "MAKE CSV FILES WITH ALL PREPROCESSED SEQUENCES FROM EACH ROUND"
      ],
      "metadata": {
        "id": "QlHbiBz7U3RG"
      }
    },
    {
      "cell_type": "code",
      "source": [
        "#Make sequence read CSV\n",
        "for round in range(len(all_high_qual_seqs)):\n",
        "  seqs = list({k: v for k, v in sorted(dict(Counter(all_high_qual_seqs[round])).items(), key=lambda item: item[1], reverse=True)}.keys())\n",
        "  reads = list({k: v for k, v in sorted(dict(Counter(all_high_qual_seqs[round])).items(), key=lambda item: item[1], reverse=True)}.values())\n",
        "  with open('preprocessed_sequences_round'+str(round+1)+'.csv', 'w') as f:\n",
        "      f.write('Sequence'+','+'Reads'+'\\n')\n",
        "      for element in range(len(seqs)):\n",
        "        f.write(str(seqs[element] )+','+str(reads[element])+'\\n')"
      ],
      "metadata": {
        "id": "q8BMkJDgU1QX"
      },
      "execution_count": 12,
      "outputs": []
    },
    {
      "cell_type": "markdown",
      "source": [
        "SELECTION STATISTICS"
      ],
      "metadata": {
        "id": "uxpkkNdKVLur"
      }
    },
    {
      "cell_type": "code",
      "source": [
        "for round in range(len(origonal_seqs)):\n",
        "  print('Round: '+ str(round+1))\n",
        "  print('Number of Total Sequences: '+str(len(origonal_seqs[round])))\n",
        "  print('Number of High Quality Sequences: '+str(len(all_high_qual_seqs[round])))\n",
        "  print('Number of Unique Sequences: '+str(len(list(set((all_high_qual_seqs[round]))))))\n",
        "  print('Fraction Unique Sequences: '+str(len(list(set((all_high_qual_seqs[round]))))/len(all_high_qual_seqs[round]))[:6])\n",
        "  print('')"
      ],
      "metadata": {
        "colab": {
          "base_uri": "https://localhost:8080/"
        },
        "id": "0HMRokbMU7f3",
        "outputId": "d66ec9f8-bc1e-49ea-892f-5a68c9ecd81b"
      },
      "execution_count": 13,
      "outputs": [
        {
          "output_type": "stream",
          "name": "stdout",
          "text": [
            "Round: 1\n",
            "Number of Total Sequences: 10000\n",
            "Number of High Quality Sequences: 7071\n",
            "Number of Unique Sequences: 7011\n",
            "Fraction Unique Sequences: 0.9915\n",
            "\n",
            "Round: 2\n",
            "Number of Total Sequences: 10000\n",
            "Number of High Quality Sequences: 7213\n",
            "Number of Unique Sequences: 7174\n",
            "Fraction Unique Sequences: 0.9945\n",
            "\n",
            "Round: 3\n",
            "Number of Total Sequences: 10000\n",
            "Number of High Quality Sequences: 7015\n",
            "Number of Unique Sequences: 5096\n",
            "Fraction Unique Sequences: 0.7264\n",
            "\n",
            "Round: 4\n",
            "Number of Total Sequences: 10000\n",
            "Number of High Quality Sequences: 7140\n",
            "Number of Unique Sequences: 1922\n",
            "Fraction Unique Sequences: 0.2691\n",
            "\n"
          ]
        }
      ]
    },
    {
      "cell_type": "markdown",
      "source": [
        "TOP SEQUENCE TRACKER"
      ],
      "metadata": {
        "id": "EcmbCxulW4K7"
      }
    },
    {
      "cell_type": "code",
      "source": [
        "##USER EDIT\n",
        "sequences_to_track = 5\n",
        "##USER EDIT"
      ],
      "metadata": {
        "id": "9xsH2UoDVs6G"
      },
      "execution_count": 14,
      "outputs": []
    },
    {
      "cell_type": "code",
      "source": [
        "import numpy as np\n",
        "import matplotlib.pyplot as plt\n",
        "\n",
        "counted_data = dict(Counter(all_high_qual_seqs[-1]))\n",
        "raw_data_list = [(k, v) for k, v in counted_data.items()]\n",
        "top_sequences = sorted(raw_data_list, key = lambda x: x[1], reverse=True)[:sequences_to_track]\n",
        "\n",
        "all_track = []\n",
        "for seq in range(len(top_sequences)):\n",
        "  track = []\n",
        "  for round in range(len(orig_trimmed_seqs)):\n",
        "    track.append(orig_trimmed_seqs[round].count(top_sequences[seq][0]) / len(orig_trimmed_seqs[round]))\n",
        "  all_track.append(track)\n",
        "\n",
        "for seq in all_track:\n",
        "  plt.plot(range(1,1+len(seq)), seq, marker = 'o', label = 'Seq '+str(1+all_track.index(seq)))\n",
        "plt.xlabel('Round')\n",
        "plt.ylabel('Fraction Abundance')\n",
        "plt.legend()\n",
        "print(all_track)"
      ],
      "metadata": {
        "colab": {
          "base_uri": "https://localhost:8080/",
          "height": 296
        },
        "id": "TTSKaRqaVuiO",
        "outputId": "e4ca95e5-2db0-4bc7-cd23-83f88ccfdb9a"
      },
      "execution_count": 32,
      "outputs": [
        {
          "output_type": "stream",
          "name": "stdout",
          "text": [
            "[[0.0, 0.0, 0.0094, 0.1813], [0.0, 0.0, 0.0025, 0.0473], [0.0, 0.0001, 0.0089, 0.0335], [0.0, 0.0, 0.0019, 0.0219], [0.0, 0.0, 0.0088, 0.0166]]\n"
          ]
        },
        {
          "output_type": "display_data",
          "data": {
            "text/plain": [
              "<Figure size 432x288 with 1 Axes>"
            ],
            "image/png": "[encoded data removed]"
          },
          "metadata": {
            "needs_background": "light"
          }
        }
      ]
    },
    {
      "cell_type": "markdown",
      "source": [
        "SEQUENCE MOTIF TRACKER"
      ],
      "metadata": {
        "id": "c-Qh5OIks_Of"
      }
    },
    {
      "cell_type": "code",
      "source": [
        "##USER EDIT\n",
        "motif_to_track = 'ACA'\n",
        "##USER EDIT"
      ],
      "metadata": {
        "id": "p2CIT9lfZzuL"
      },
      "execution_count": 33,
      "outputs": []
    },
    {
      "cell_type": "code",
      "source": [
        "motif_frac = []\n",
        "for round in range(len(all_high_qual_seqs)):\n",
        "  counter = 0\n",
        "  for seq in all_high_qual_seqs[round]:\n",
        "    if motif_to_track in seq:\n",
        "      counter+=1\n",
        "  motif_frac.append(counter/len(all_high_qual_seqs[round]))\n",
        "\n",
        "plt.plot(range(1,1+len(motif_frac)), motif_frac, marker = 'o')\n",
        "plt.xlabel('Round')\n",
        "plt.ylabel('Fraction Abundance')\n",
        "plt.legend()\n",
        "print(all_track)"
      ],
      "metadata": {
        "colab": {
          "base_uri": "https://localhost:8080/",
          "height": 314
        },
        "id": "dBHaOOPMxj0Z",
        "outputId": "d9687188-c262-4fbc-dbef-e56bc8bf7d5e"
      },
      "execution_count": 55,
      "outputs": [
        {
          "output_type": "stream",
          "name": "stderr",
          "text": [
            "WARNING:matplotlib.legend:No handles with labels found to put in legend.\n"
          ]
        },
        {
          "output_type": "stream",
          "name": "stdout",
          "text": [
            "[[0.0, 0.0, 0.0094, 0.1813], [0.0, 0.0, 0.0025, 0.0473], [0.0, 0.0001, 0.0089, 0.0335], [0.0, 0.0, 0.0019, 0.0219], [0.0, 0.0, 0.0088, 0.0166]]\n"
          ]
        },
        {
          "output_type": "display_data",
          "data": {
            "text/plain": [
              "<Figure size 432x288 with 1 Axes>"
            ],
            "image/png": "[encoded data removed]"
          },
          "metadata": {
            "needs_background": "light"
          }
        }
      ]
    },
    {
      "cell_type": "markdown",
      "source": [
        "MUTATIONAL INTERMEDIATES FINDER"
      ],
      "metadata": {
        "id": "oPC8q7SUy66o"
      }
    },
    {
      "cell_type": "code",
      "source": [
        "##USER EDIT\n",
        "sequence_1 = 'ACCCATTGGTTGGGTGACGTGGCATGTGACGGAAT'\n",
        "sequence_2 = 'AGCAGGAAAGCGAGGGTATCCTACAAAGTCCAGCG'\n",
        "##USER EDIT"
      ],
      "metadata": {
        "id": "QmWtyEh3zV_a"
      },
      "execution_count": 76,
      "outputs": []
    },
    {
      "cell_type": "code",
      "source": [
        "seq1_flag = 0\n",
        "for round in orig_trimmed_seqs:\n",
        "  if sequence_1 in round:\n",
        "    seq1_flag = 1\n",
        "if seq1_flag == 0:\n",
        "  print('Sequence 1 not in pool')\n",
        "\n",
        "seq2_flag = 0\n",
        "for round in orig_trimmed_seqs:\n",
        "  if sequence_2 in round:\n",
        "    seq2_flag = 1\n",
        "if seq2_flag == 0:\n",
        "  print('Sequence 2 not in pool')\n",
        "\n",
        "same_positions = []\n",
        "for position in range(len(sequence_1)):\n",
        "  if sequence_1[position]==sequence_2[position]:\n",
        "    same_positions.append(position)\n",
        "\n",
        "intermediate = []\n",
        "\n",
        "for test_seq in list(set(all_high_qual_seqs[-1])):\n",
        "  count = 0\n",
        "  for position in same_positions:\n",
        "    if test_seq[position]==sequence_1[position]:\n",
        "        count+=1\n",
        "    if count > len(same_positions)-1:\n",
        "        intermediate.append([test_seq, orig_trimmed_seqs[-1].count(test_seq)])\n",
        "\n",
        "intermediate"
      ],
      "metadata": {
        "colab": {
          "base_uri": "https://localhost:8080/"
        },
        "id": "kM4k8YMzx_HK",
        "outputId": "ef4213c3-755d-48d8-d41b-99dd9fe26e3b"
      },
      "execution_count": 79,
      "outputs": [
        {
          "output_type": "execute_result",
          "data": {
            "text/plain": [
              "[['ACCCATTGGTTGGGTGACGTGGCATGTGACGGAAT', 15],\n",
              " ['AGCAGGAAAGCGAGGGTATCCTACAAAGTCCAGCG', 2]]"
            ]
          },
          "metadata": {},
          "execution_count": 79
        }
      ]
    },
    {
      "cell_type": "markdown",
      "source": [
        "CLUSTER PEAK FINDER"
      ],
      "metadata": {
        "id": "FchXH1ds1kmy"
      }
    },
    {
      "cell_type": "code",
      "source": [
        "##USER EDIT\n",
        "number_of_clusters = 10\n",
        "number_of_clusters_to_analyze = 3\n",
        "##USER EDIT"
      ],
      "metadata": {
        "id": "ZaYRGxOLzpbT"
      },
      "execution_count": 82,
      "outputs": []
    },
    {
      "cell_type": "code",
      "source": [
        "from sklearn.cluster import KMeans\n",
        "\n",
        "all_labels = []\n",
        "for round_num in range(len(all_high_qual_seqs)):\n",
        "    all_high_qual_seqs_unique = list(set(all_high_qual_seqs[round_num]))\n",
        "    matrix = np.asarray([np.fromstring(str(s), dtype=np.uint8) for s in all_high_qual_seqs_unique]);\n",
        "    kmeans = KMeans(init=\"random\", n_clusters=number_of_clusters,n_init=10,max_iter=300,random_state=42)\n",
        "    kmeans.fit(matrix)\n",
        "    labels = kmeans.labels_[:]\n",
        "    all_labels.append(list(labels))\n",
        "\n",
        "top_clusters = []\n",
        "peak_seqs = []\n",
        "seqs = list({k: v for k, v in sorted(dict(Counter(all_high_qual_seqs[-1])).items(), key=lambda item: item[1], reverse=True)}.keys())\n",
        "reads = list({k: v for k, v in sorted(dict(Counter(all_high_qual_seqs[-1])).items(), key=lambda item: item[1], reverse=True)}.values())\n",
        "\n",
        "i = 0\n",
        "while len(top_clusters)<number_of_clusters_to_analyze:\n",
        "  seq_cluster = labels[all_high_qual_seqs_unique.index(seqs[i])]\n",
        "  if seq_cluster not in top_clusters:\n",
        "      top_clusters.append(seq_cluster)\n",
        "      peak_seqs.append(seqs[i])\n",
        "  i+=1\n",
        "\n",
        "print('Cluster Peak Sequences: ')\n",
        "print(peak_seqs)"
      ],
      "metadata": {
        "colab": {
          "base_uri": "https://localhost:8080/"
        },
        "id": "XgYqkFId167V",
        "outputId": "6fa3c09c-6167-4ebd-ea9c-e05445413e70"
      },
      "execution_count": 143,
      "outputs": [
        {
          "output_type": "stream",
          "name": "stderr",
          "text": [
            "/usr/local/lib/python3.7/dist-packages/ipykernel_launcher.py:6: DeprecationWarning: The binary mode of fromstring is deprecated, as it behaves surprisingly on unicode inputs. Use frombuffer instead\n",
            "  \n",
            "/usr/local/lib/python3.7/dist-packages/ipykernel_launcher.py:6: DeprecationWarning: The binary mode of fromstring is deprecated, as it behaves surprisingly on unicode inputs. Use frombuffer instead\n",
            "  \n",
            "/usr/local/lib/python3.7/dist-packages/ipykernel_launcher.py:6: DeprecationWarning: The binary mode of fromstring is deprecated, as it behaves surprisingly on unicode inputs. Use frombuffer instead\n",
            "  \n",
            "/usr/local/lib/python3.7/dist-packages/ipykernel_launcher.py:6: DeprecationWarning: The binary mode of fromstring is deprecated, as it behaves surprisingly on unicode inputs. Use frombuffer instead\n",
            "  \n"
          ]
        },
        {
          "output_type": "stream",
          "name": "stdout",
          "text": [
            "Cluster Peak Sequences: \n",
            "['GAATGCTGCCAACCGTGCGGGCTAATTGGCAGACT', 'CCTAGCTAGCGCTGACTAGGACAGATGAGCGGCGG', 'TTAGTGAAATTGGTGCCCAAGCAGAGAATTGGGAT']\n"
          ]
        }
      ]
    },
    {
      "cell_type": "markdown",
      "source": [
        "MAKE CSV FILES WITH ALL CLUSTERED SEQUENCES FROM EACH ROUND"
      ],
      "metadata": {
        "id": "CPW2gzxW8HTF"
      }
    },
    {
      "cell_type": "code",
      "source": [
        "for round in range(len(all_high_qual_seqs)):\n",
        "  all_high_qual_seqs_unique = list(set(all_high_qual_seqs[round]))\n",
        "  with open('clustered_sequences_round'+str(round+1)+'.csv', 'w') as f:\n",
        "    f.write('Sequence,'+'Cluster,'+'Counts\\n')\n",
        "    for seq in range(len(all_high_qual_seqs_unique)):\n",
        "      f.write(str(all_high_qual_seqs_unique[seq])+','+str(all_labels[round][seq])+','+str(all_high_qual_seqs[round].count(all_high_qual_seqs_unique[seq]))+'\\n')"
      ],
      "metadata": {
        "id": "N7qqy8GW5nBj"
      },
      "execution_count": 158,
      "outputs": []
    },
    {
      "cell_type": "markdown",
      "source": [
        "CLUSTER PEAK TRACKER"
      ],
      "metadata": {
        "id": "fXj7XN6c9x3S"
      }
    },
    {
      "cell_type": "code",
      "source": [
        "##USER EDIT\n",
        "number_of_clusters_to_track = 3\n",
        "##USER EDIT"
      ],
      "metadata": {
        "id": "44ItaXmm6pnp"
      },
      "execution_count": 160,
      "outputs": []
    },
    {
      "cell_type": "code",
      "source": [
        "i = 0\n",
        "while len(top_clusters)<number_of_clusters_to_track:\n",
        "  seq_cluster = labels[all_high_qual_seqs_unique.index(seqs[i])]\n",
        "  if seq_cluster not in top_clusters:\n",
        "      top_clusters.append(seq_cluster)\n",
        "      peak_seqs.append(seqs[i])\n",
        "  i+=1\n",
        "\n",
        "counted_data = dict(Counter(all_high_qual_seqs[-1]))\n",
        "raw_data_list = [(k, v) for k, v in counted_data.items()]\n",
        "top_sequences = peak_seqs\n",
        "\n",
        "all_track = []\n",
        "for seq in range(len(top_sequences)):\n",
        "  track = []\n",
        "  for round in range(len(orig_trimmed_seqs)):\n",
        "    track.append(orig_trimmed_seqs[round].count(top_sequences[seq]) / len(orig_trimmed_seqs[round]))\n",
        "  all_track.append(track)\n",
        "\n",
        "for seq in all_track:\n",
        "  plt.plot(range(1,1+len(seq)), seq, marker = 'o', label = 'Peak Seq '+str(1+all_track.index(seq)))\n",
        "plt.xlabel('Round')\n",
        "plt.ylabel('Fraction Abundance')\n",
        "plt.legend()\n",
        "print(all_track)"
      ],
      "metadata": {
        "colab": {
          "base_uri": "https://localhost:8080/",
          "height": 296
        },
        "id": "RNvRKABT-HAH",
        "outputId": "c539a0ce-fbb5-40ba-f3d3-702dfd4c5105"
      },
      "execution_count": 164,
      "outputs": [
        {
          "output_type": "stream",
          "name": "stdout",
          "text": [
            "[[0.0, 0.0, 0.0094, 0.1813], [0.0, 0.0, 0.0025, 0.0473], [0.0, 0.0001, 0.0089, 0.0335]]\n"
          ]
        },
        {
          "output_type": "display_data",
          "data": {
            "text/plain": [
              "<Figure size 432x288 with 1 Axes>"
            ],
            "image/png": "[encoded data removed]"
          },
          "metadata": {
            "needs_background": "light"
          }
        }
      ]
    },
    {
      "cell_type": "markdown",
      "source": [
        "CONSERVATION FINDER"
      ],
      "metadata": {
        "id": "ySXvbcpM-fTF"
      }
    },
    {
      "cell_type": "code",
      "source": [
        "##USER EDIT\n",
        "cluster_rank_for_heatmap = 1\n",
        "##USER EDIT"
      ],
      "metadata": {
        "id": "r5HZwg7U-zHl"
      },
      "execution_count": 168,
      "outputs": []
    },
    {
      "cell_type": "code",
      "source": [
        "import seaborn as sns\n",
        "i = 0\n",
        "cluster_associate = []\n",
        "while len(cluster_associate)<cluster_rank_for_heatmap:\n",
        "  seq_cluster = labels[all_high_qual_seqs_unique.index(seqs[i])]\n",
        "  if seq_cluster not in cluster_associate:\n",
        "      cluster_associate.append(seq_cluster)\n",
        "  i+=1\n",
        "\n",
        "seqs_in_cluster = []\n",
        "for lab in range(len(all_labels[-1])):\n",
        "  if all_labels[-1][lab] == cluster_associate[-1]:\n",
        "    seqs_in_cluster.append(list(set(all_high_qual_seqs[-1]))[lab])\n",
        "\n",
        "heatmap_data = []\n",
        "\n",
        "for position in range(len(seqs_in_cluster[0])):\n",
        "    options = []\n",
        "    for seq in seqs_in_cluster:\n",
        "        options.append(seq[position])\n",
        "\n",
        "    raw_options = [(k, v) for k, v in Counter(options).items()]\n",
        "    nuc_list = []\n",
        "    for element in raw_options:\n",
        "        nuc_list.append(element[0])\n",
        "    if 'A' not in nuc_list:\n",
        "        raw_options.append(('A', 0))\n",
        "    if 'C' not in nuc_list:\n",
        "        raw_options.append(('C', 0))\n",
        "    if 'G' not in nuc_list:\n",
        "        raw_options.append(('G', 0))\n",
        "    if 'T' not in nuc_list:\n",
        "        raw_options.append(('T', 0))\n",
        "    raw_options = sorted(raw_options, key=lambda x: x[0])\n",
        "\n",
        "    heatmap_data_position = []\n",
        "    for element in raw_options:\n",
        "        heatmap_data_position.append(element[1]/len(seqs_in_cluster))\n",
        "    heatmap_data.append(heatmap_data_position)\n",
        "heatmap_data = np.array(heatmap_data).transpose()"
      ],
      "metadata": {
        "id": "xmmSvoS8-920"
      },
      "execution_count": 188,
      "outputs": []
    },
    {
      "cell_type": "code",
      "source": [
        "fig, ax = plt.subplots(figsize=(25,3))\n",
        "sns.heatmap(heatmap_data, vmin=0, vmax=1)\n",
        "ax.set_xlabel('Position')\n",
        "ax.set_yticklabels(['A','C','G','U'])\n",
        "ax.set_xticklabels(range(1,1+len(heatmap_data[0])));"
      ],
      "metadata": {
        "colab": {
          "base_uri": "https://localhost:8080/",
          "height": 229
        },
        "id": "n6G50cZt-WPK",
        "outputId": "f8d08d3e-d8fe-4d63-fe65-0d13eac6dd36"
      },
      "execution_count": 203,
      "outputs": [
        {
          "output_type": "display_data",
          "data": {
            "text/plain": [
              "<Figure size 1800x216 with 2 Axes>"
            ],
            "image/png": "[encoded data removed]"
          },
          "metadata": {
            "needs_background": "light"
          }
        }
      ]
    },
    {
      "cell_type": "code",
      "source": [],
      "metadata": {
        "id": "yZt3mzYO_m_Y"
      },
      "execution_count": null,
      "outputs": []
    }
  ]
}